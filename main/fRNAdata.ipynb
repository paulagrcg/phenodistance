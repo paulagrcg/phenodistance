{
 "cells": [
  {
   "cell_type": "markdown",
   "metadata": {},
   "source": [
    "# how to generate the significance\n"
   ]
  },
  {
   "cell_type": "code",
   "execution_count": 1,
   "metadata": {},
   "outputs": [],
   "source": [
    "def find_diagonal_distances_dict(prob1,prob2):\n",
    "    diagonal_distances = {}\n",
    "    for x, y,key1,key2 in zip(prob1.values(), prob2.values(), prob1.keys(), prob2.keys()):\n",
    "        if key1 == key2:\n",
    "            diagonal_distances[key1] = find_diagonal_distances_val(x,y)\n",
    "    return diagonal_distances"
   ]
  },
  {
   "cell_type": "code",
   "execution_count": 2,
   "metadata": {},
   "outputs": [],
   "source": [
    "def find_diagonal_distances_list(prob1,prob2):\n",
    "    diagonal_distances = []\n",
    "    for x, y in zip(prob1, prob2):\n",
    "            diagonal_distances.append(find_diagonal_distances_val(x,y))\n",
    "    return diagonal_distances"
   ]
  },
  {
   "cell_type": "code",
   "execution_count": 3,
   "metadata": {},
   "outputs": [],
   "source": [
    "def find_diagonal_distances_val(prob1,prob2):\n",
    "    distance = np.sqrt((prob1 - 0.5)**2 + (prob2 - 0.5)**2)/(np.sqrt(2)/2)\n",
    "    return distance"
   ]
  },
  {
   "cell_type": "code",
   "execution_count": null,
   "metadata": {},
   "outputs": [],
   "source": [
    "import glob\n",
    "import pandas as pd\n",
    "import re\n",
    "import numpy as np\n",
    "from scipy.stats import norm\n",
    "from collections import defaultdict\n",
    "import pickle\n",
    "# Path to the data folder\n",
    "data_folder = '../data/'\n",
    "\n",
    "# Pattern to match the files\n",
    "file_pattern = data_folder + 'to_analyse*_ssize10000.pkl'\n",
    "\n",
    "# List to store p-values from all files\n",
    "nameandrankdist_hammingandprobs_pvals_p2 = defaultdict(dict)\n",
    "fRNAsitescount = defaultdict(float)\n",
    "\n",
    "files = glob.glob(file_pattern)\n",
    "listtoanalyse = []\n",
    "# Loop through each file and extract probs2\n",
    "for file in files:\n",
    "    match = re.search(r'to_analyse(\\d+)_ssize10000', file)\n",
    "    \n",
    "    if match:\n",
    "        seq_number = int(match.group(1))\n",
    "        # Read the file into a DataFrame\n",
    "        with open(file, 'rb') as f:\n",
    "            data = pickle.load(f)\n",
    "        probs1 = list(data['probs1'])\n",
    "        probs2 = list(data['probs2'])\n",
    "        if (len(probs1), len(probs2)) == (10000, 10000):\n",
    "            listtoanalyse.append(seq_number)\n",
    "            dataset = np.array([find_diagonal_distances_val(p1, p2) for p1, p2 in zip(probs1,probs2)])\n",
    "            mean = np.mean(dataset)\n",
    "            std_dev = np.std(dataset)\n",
    "            fRNAsitescount[seq_number] = (mean, std_dev)\n",
    "\n",
    "with open('fRNAsitesfile.pkl', 'wb') as f:\n",
    "    pickle.dump(fRNAsitescount, f)\n",
    "    \"\"\" \n",
    "        dataset = np.array([find_diagonal_distances_val(p1, p2) for p1, p2 in zip(probs1,probs2)])\n",
    "        d_obs = find_diagonal_distances_val(fRNAprob1[tuple(names_to_analyse[seq_number])], fRNAprob2[tuple(names_to_analyse[seq_number])])\n",
    "        \n",
    "        mean = np.mean(dataset)\n",
    "        std_dev = np.std(dataset)\n",
    "\n",
    "        # Compute the z-score for the observed value\n",
    "        z_score = (d_obs - mean) / std_dev\n",
    "\n",
    "        # One-tailed p-value (upper-tail)\n",
    "        p_value_upper = 1 - norm.cdf(z_score)\n",
    "        if p_value_upper < 0.05:\n",
    "            print(seq_number, tuple(names_to_analyse[seq_number]), p_value_upper\n",
    "            \n",
    "    \"\"\""
   ]
  },
  {
   "cell_type": "code",
   "execution_count": 2,
   "metadata": {},
   "outputs": [
    {
     "ename": "FileNotFoundError",
     "evalue": "[Errno 2] No such file or directory: 'fRNAsitesfile.pkl'",
     "output_type": "error",
     "traceback": [
      "\u001b[0;31m---------------------------------------------------------------------------\u001b[0m",
      "\u001b[0;31mFileNotFoundError\u001b[0m                         Traceback (most recent call last)",
      "Input \u001b[0;32mIn [2]\u001b[0m, in \u001b[0;36m<cell line: 1>\u001b[0;34m()\u001b[0m\n\u001b[0;32m----> 1\u001b[0m \u001b[38;5;28;01mwith\u001b[39;00m \u001b[38;5;28;43mopen\u001b[39;49m\u001b[43m(\u001b[49m\u001b[38;5;124;43m'\u001b[39;49m\u001b[38;5;124;43mfRNAsitesfile.pkl\u001b[39;49m\u001b[38;5;124;43m'\u001b[39;49m\u001b[43m,\u001b[49m\u001b[43m \u001b[49m\u001b[38;5;124;43m'\u001b[39;49m\u001b[38;5;124;43mrb\u001b[39;49m\u001b[38;5;124;43m'\u001b[39;49m\u001b[43m)\u001b[49m \u001b[38;5;28;01mas\u001b[39;00m f:\n\u001b[1;32m      2\u001b[0m     fRNAsitesfile \u001b[38;5;241m=\u001b[39m pickle\u001b[38;5;241m.\u001b[39mload(f)\n",
      "\u001b[0;31mFileNotFoundError\u001b[0m: [Errno 2] No such file or directory: 'fRNAsitesfile.pkl'"
     ]
    }
   ],
   "source": [
    "with open('fRNAsitesfile.pkl', 'rb') as f:\n",
    "    fRNAsitesfile = pickle.load(f)\n"
   ]
  }
 ],
 "metadata": {
  "kernelspec": {
   "display_name": "Python 3",
   "language": "python",
   "name": "python3"
  },
  "language_info": {
   "codemirror_mode": {
    "name": "ipython",
    "version": 3
   },
   "file_extension": ".py",
   "mimetype": "text/x-python",
   "name": "python",
   "nbconvert_exporter": "python",
   "pygments_lexer": "ipython3",
   "version": "3.9.12"
  }
 },
 "nbformat": 4,
 "nbformat_minor": 2
}
